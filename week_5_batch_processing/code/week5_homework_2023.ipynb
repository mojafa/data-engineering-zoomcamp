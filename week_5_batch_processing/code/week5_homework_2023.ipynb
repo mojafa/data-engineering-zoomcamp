{
 "cells": [
  {
   "cell_type": "markdown",
   "id": "5155d831",
   "metadata": {},
   "source": [
    "# Question 1\n",
    "\n",
    "### Install Spark and PySpark\n",
    "\n",
    "#### Install Spark\n",
    "#### Run PySpark\n",
    "#### Create a local spark session\n",
    "#### Execute spark.version.\n",
    "<!-- #### What’s the output?\n",
    "\n",
    "3.3.2\n",
    "2.1.4\n",
    "1.2.3\n",
    "5.4\n",
    " -->"
   ]
  },
  {
   "cell_type": "code",
   "execution_count": 2,
   "id": "34e99ff9",
   "metadata": {},
   "outputs": [
    {
     "data": {
      "text/plain": [
       "'3.3.2'"
      ]
     },
     "execution_count": 2,
     "metadata": {},
     "output_type": "execute_result"
    }
   ],
   "source": [
    "import pyspark\n",
    "from pyspark.sql import SparkSession\n",
    "\n",
    "spark = SparkSession.builder \\\n",
    "    .master(\"local[*]\") \\\n",
    "    .appName('test') \\\n",
    "    .getOrCreate()\n",
    "\n",
    "pyspark.__version__"
   ]
  },
  {
   "cell_type": "markdown",
   "id": "a7411cf6",
   "metadata": {},
   "source": [
    "# Question 2\n",
    "###### HVFHW June 2021\n",
    "\n",
    "###### Read it with Spark using the same schema as we did in the lessons.\n",
    "###### We will use this dataset for all the remaining questions.\n",
    "\n",
    "###### Repartition it to 12 partitions and save it to parquet.\n",
    "\n",
    "###### What is the average size of the Parquet (ending with .parquet extension) Files that were created (in MB)?\n",
    "\n",
    "###### Select the answer which most closely matches.\n",
    "\n",
    "###### 2 MB\n",
    "###### 24 MB\n",
    "###### 100 MB\n",
    "###### 250 MB"
   ]
  },
  {
   "cell_type": "code",
   "execution_count": null,
   "id": "88f34208",
   "metadata": {},
   "outputs": [],
   "source": []
  },
  {
   "cell_type": "markdown",
   "id": "b88cd1b0",
   "metadata": {},
   "source": [
    "# Question 3\n",
    "###### Count records\n",
    "\n",
    "###### How many taxi trips were there on June 15?\n",
    "###### Consider only trips that started on June 15.\n",
    "\n",
    "###### 308,164\n",
    "###### 12,856\n",
    "###### 452,470\n",
    "###### 50,982"
   ]
  },
  {
   "cell_type": "code",
   "execution_count": null,
   "id": "12adf6fc",
   "metadata": {},
   "outputs": [],
   "source": []
  },
  {
   "cell_type": "code",
   "execution_count": null,
   "id": "42d646da",
   "metadata": {},
   "outputs": [],
   "source": []
  },
  {
   "cell_type": "markdown",
   "id": "f8a322b9",
   "metadata": {},
   "source": [
    "# Question 4\n",
    "###### Longest trip for each day\n",
    "\n",
    "###### Now calculate the duration for each trip.\n",
    "###### How long was the longest trip in Hours?\n",
    "\n",
    "66.87 Hours\n",
    "243.44 Hours\n",
    "7.68 Hours\n",
    "3.32 Hours"
   ]
  },
  {
   "cell_type": "markdown",
   "id": "fc6e9ea5",
   "metadata": {},
   "source": [
    "# Question 5\n",
    "## User Interface\n",
    "\n",
    "### Spark’s User Interface which shows application’s dashboard runs on which local port?"
   ]
  },
  {
   "cell_type": "code",
   "execution_count": null,
   "id": "7d9036e5",
   "metadata": {},
   "outputs": [],
   "source": []
  },
  {
   "cell_type": "markdown",
   "id": "be3ff207",
   "metadata": {},
   "source": [
    "# Question 6\n",
    "## Most frequent pickup location zone\n",
    "\n",
    "### Load the zone lookup data into a temp view in Spark\n",
    "### Zone Data.\n",
    "\n",
    "#### Using the zone lookup data and the fhvhv June 2021 data, what is the name of the most frequent pickup location zone?\n",
    "\n",
    "###### East Chelsea, Astoria, Union Sq, Crown Heights North"
   ]
  },
  {
   "cell_type": "code",
   "execution_count": null,
   "id": "fca127bd",
   "metadata": {},
   "outputs": [],
   "source": []
  }
 ],
 "metadata": {
  "kernelspec": {
   "display_name": "Python 3 (ipykernel)",
   "language": "python",
   "name": "python3"
  },
  "language_info": {
   "codemirror_mode": {
    "name": "ipython",
    "version": 3
   },
   "file_extension": ".py",
   "mimetype": "text/x-python",
   "name": "python",
   "nbconvert_exporter": "python",
   "pygments_lexer": "ipython3",
   "version": "3.10.10"
  }
 },
 "nbformat": 4,
 "nbformat_minor": 5
}
