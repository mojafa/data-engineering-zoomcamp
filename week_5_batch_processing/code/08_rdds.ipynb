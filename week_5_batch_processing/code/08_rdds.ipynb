{
 "cells": [
  {
   "cell_type": "markdown",
   "id": "4e5ce0be",
   "metadata": {},
   "source": [
    "What is RDD and how is it related to dataframe\n",
    "From DataFrame to RDD\n",
    "Operators on RDDs: map, filter, reduceByKey\n",
    "From RDD to DataFrame\n",
    "\n",
    "Resilient Distributed Datasets (RDDs) are the main abstraction provided by Spark and consist of collection of elements partitioned accross the nodes of the cluster.\n",
    "\n",
    "Dataframes are actually built on top of RDDs and contain a schema as well, which plain RDDs do not."
   ]
  },
  {
   "cell_type": "code",
   "execution_count": 3,
   "id": "d66f42fd",
   "metadata": {},
   "outputs": [
    {
     "name": "stdout",
     "output_type": "stream",
     "text": [
      "23/03/21 23:32:10 WARN Utils: Your hostname, Jafas-MacBook-Pro.local resolves to a loopback address: 127.0.0.1; using 192.168.0.130 instead (on interface en0)\n",
      "23/03/21 23:32:10 WARN Utils: Set SPARK_LOCAL_IP if you need to bind to another address\n"
     ]
    },
    {
     "name": "stderr",
     "output_type": "stream",
     "text": [
      "Setting default log level to \"WARN\".\n",
      "To adjust logging level use sc.setLogLevel(newLevel). For SparkR, use setLogLevel(newLevel).\n"
     ]
    },
    {
     "name": "stdout",
     "output_type": "stream",
     "text": [
      "23/03/21 23:32:11 WARN NativeCodeLoader: Unable to load native-hadoop library for your platform... using builtin-java classes where applicable\n",
      "23/03/21 23:32:12 WARN Utils: Service 'SparkUI' could not bind on port 4040. Attempting port 4041.\n"
     ]
    }
   ],
   "source": [
    "import pyspark\n",
    "from pyspark.sql import SparkSession\n",
    "\n",
    "spark = SparkSession.builder \\\n",
    "    .master(\"local[*]\") \\\n",
    "    .appName('test') \\\n",
    "    .getOrCreate()"
   ]
  },
  {
   "cell_type": "code",
   "execution_count": 4,
   "id": "646fc343",
   "metadata": {},
   "outputs": [
    {
     "name": "stderr",
     "output_type": "stream",
     "text": [
      "                                                                                \r"
     ]
    }
   ],
   "source": [
    "df_green = spark.read.parquet('data/pq/green/*/*')"
   ]
  },
  {
   "cell_type": "markdown",
   "id": "196cccd5",
   "metadata": {},
   "source": [
    "```\n",
    "SELECT \n",
    "    date_trunc('hour', lpep_pickup_datetime) AS hour, \n",
    "    PULocationID AS zone,\n",
    "\n",
    "    SUM(total_amount) AS amount,\n",
    "    COUNT(1) AS number_records\n",
    "FROM\n",
    "    green\n",
    "WHERE\n",
    "    lpep_pickup_datetime >= '2020-01-01 00:00:00'\n",
    "GROUP BY\n",
    "    1, 2\n",
    "```"
   ]
  },
  {
   "cell_type": "code",
   "execution_count": 5,
   "id": "74fe52cb",
   "metadata": {
    "scrolled": true
   },
   "outputs": [],
   "source": [
    "rdd = df_green \\\n",
    "    .select('lpep_pickup_datetime', 'PULocationID', 'total_amount') \\\n",
    "    .rdd"
   ]
  },
  {
   "cell_type": "code",
   "execution_count": 6,
   "id": "166660d8",
   "metadata": {},
   "outputs": [
    {
     "name": "stderr",
     "output_type": "stream",
     "text": [
      "\r",
      "[Stage 1:>                                                          (0 + 1) / 1]\r"
     ]
    },
    {
     "name": "stdout",
     "output_type": "stream",
     "text": [
      "<class 'pyspark.sql.types.Row'>\n"
     ]
    },
    {
     "name": "stderr",
     "output_type": "stream",
     "text": [
      "\r",
      "                                                                                \r"
     ]
    }
   ],
   "source": [
    "print(type(df_green.rdd.take(1)[0]))"
   ]
  },
  {
   "cell_type": "code",
   "execution_count": 7,
   "id": "82546983",
   "metadata": {},
   "outputs": [
    {
     "data": {
      "text/plain": [
       "[Row(VendorID=2, lpep_pickup_datetime=datetime.datetime(2020, 1, 28, 9, 54, 40), lpep_dropoff_datetime=datetime.datetime(2020, 1, 28, 10, 6, 19), store_and_fwd_flag='N', RatecodeID=1, PULocationID=92, DOLocationID=82, passenger_count=1, trip_distance=4.08, fare_amount=14.5, extra=0.0, mta_tax=0.5, tip_amount=1.5, tolls_amount=0.0, ehail_fee=None, improvement_surcharge=0.3, total_amount=16.8, payment_type=1, trip_type=1, congestion_surcharge=0.0),\n",
       " Row(VendorID=2, lpep_pickup_datetime=datetime.datetime(2020, 1, 8, 20, 11, 55), lpep_dropoff_datetime=datetime.datetime(2020, 1, 8, 20, 14, 35), store_and_fwd_flag='N', RatecodeID=1, PULocationID=189, DOLocationID=181, passenger_count=1, trip_distance=0.56, fare_amount=4.0, extra=0.5, mta_tax=0.5, tip_amount=0.0, tolls_amount=0.0, ehail_fee=None, improvement_surcharge=0.3, total_amount=5.3, payment_type=2, trip_type=1, congestion_surcharge=0.0),\n",
       " Row(VendorID=None, lpep_pickup_datetime=datetime.datetime(2020, 1, 10, 11, 23), lpep_dropoff_datetime=datetime.datetime(2020, 1, 10, 11, 26), store_and_fwd_flag=None, RatecodeID=None, PULocationID=196, DOLocationID=196, passenger_count=None, trip_distance=0.05, fare_amount=13.16, extra=0.0, mta_tax=0.0, tip_amount=0.0, tolls_amount=0.0, ehail_fee=None, improvement_surcharge=0.3, total_amount=13.46, payment_type=None, trip_type=None, congestion_surcharge=None)]"
      ]
     },
     "execution_count": 7,
     "metadata": {},
     "output_type": "execute_result"
    }
   ],
   "source": [
    "df_green.rdd.take(3)\n"
   ]
  },
  {
   "cell_type": "code",
   "execution_count": 8,
   "id": "1a0bf382",
   "metadata": {},
   "outputs": [],
   "source": [
    "from datetime import datetime"
   ]
  },
  {
   "cell_type": "code",
   "execution_count": 9,
   "id": "fa2b00f1",
   "metadata": {},
   "outputs": [],
   "source": [
    "start = datetime(year=2020, month=1, day=1)\n",
    "\n",
    "def filter_outliers(row):\n",
    "    return row.lpep_pickup_datetime >= start"
   ]
  },
  {
   "cell_type": "code",
   "execution_count": 10,
   "id": "69dd326d",
   "metadata": {},
   "outputs": [],
   "source": [
    "rows = rdd.take(10)\n",
    "row = rows[0]"
   ]
  },
  {
   "cell_type": "code",
   "execution_count": 11,
   "id": "cd4b7006",
   "metadata": {},
   "outputs": [
    {
     "data": {
      "text/plain": [
       "Row(lpep_pickup_datetime=datetime.datetime(2020, 1, 28, 9, 54, 40), PULocationID=92, total_amount=16.8)"
      ]
     },
     "execution_count": 11,
     "metadata": {},
     "output_type": "execute_result"
    }
   ],
   "source": [
    "# A Row is a special object pyspark.sql.types.Row.\n",
    "\n",
    "row"
   ]
  },
  {
   "cell_type": "markdown",
   "id": "d68d6292",
   "metadata": {},
   "source": [
    "# Operations on RDDs: \n",
    "## filter, map, reduceByKey, map, toDF\n",
    "### .filter() because we don’t want outliers\n",
    "### .map() to generate intermediate results better suited for aggregation\n",
    "### .reduceByKey() to merge the values for each key\n",
    "### .map() to unwrap the rows\n",
    "### .toDF() to return the rows to a dataframe properly"
   ]
  },
  {
   "cell_type": "code",
   "execution_count": null,
   "id": "18b15551",
   "metadata": {},
   "outputs": [
    {
     "name": "stderr",
     "output_type": "stream",
     "text": [
      "[Stage 5:>                                                          (0 + 1) / 1]\r"
     ]
    }
   ],
   "source": [
    "# This returns the first row.\n",
    "rdd.filter(lambda row: True).take(1)\n",
    "\n",
    "# This filters the while dataset and returns an empty list.\n",
    "rdd.filter(lambda row: False).take(1)\n",
    "\n",
    "# This returns even numbers.\n",
    "# See https://spark.apache.org/docs/3.1.3/api/python/reference/api/pyspark.RDD.filter.html\n",
    "rdd = sc.parallelize([1, 2, 3, 4, 5])\n",
    "rdd.filter(lambda x: x % 2 == 0).collect()"
   ]
  },
  {
   "cell_type": "markdown",
   "id": "dfbb2a94",
   "metadata": {},
   "source": [
    "### We will use this to filter a Timestamp.\n",
    "\n"
   ]
  },
  {
   "cell_type": "code",
   "execution_count": 1,
   "id": "280ac84e",
   "metadata": {},
   "outputs": [
    {
     "ename": "IndentationError",
     "evalue": "unexpected indent (911761849.py, line 13)",
     "output_type": "error",
     "traceback": [
      "\u001b[0;36m  File \u001b[0;32m\"/var/folders/kt/s8b94f056s9f7ljl6s_gz7th0000gn/T/ipykernel_42785/911761849.py\"\u001b[0;36m, line \u001b[0;32m13\u001b[0m\n\u001b[0;31m    .take(3)\u001b[0m\n\u001b[0m    ^\u001b[0m\n\u001b[0;31mIndentationError\u001b[0m\u001b[0;31m:\u001b[0m unexpected indent\n"
     ]
    }
   ],
   "source": [
    "from datetime import datetime\n",
    "\n",
    "start = datetime(year=2020, month=1, day=1)\n",
    "\n",
    "rdd.filter(lambda row: riw.lpep_pickup_datetime >= start).take(5)\n",
    "\n",
    "# Better, because with lambda we gets messy quiet fast.\n",
    "def filter_outliers(row):\n",
    "    return row.lpep_pickup_datetime >= start\n",
    "\n",
    "rdd \\\n",
    "    .filter(filter_outliers)\n",
    "    .take(3)"
   ]
  },
  {
   "cell_type": "code",
   "execution_count": null,
   "id": "a2115626",
   "metadata": {},
   "outputs": [],
   "source": []
  },
  {
   "cell_type": "markdown",
   "id": "419349d8",
   "metadata": {},
   "source": [
    "## To implement the equivalent of GroupBy, we need the .map() function. A map() applied a transformation to every Row and return a transformed RDD.\n",
    "\n",
    "We create a function that transforms a row by creating a tuple composed of a key and a value. The key is a tuple of hour and zone, the same two columns of the GROUP BY. The value is a tuple of amount and number of records, the same two columns that are returned by the SQL query above."
   ]
  },
  {
   "cell_type": "code",
   "execution_count": 29,
   "id": "d99eb089",
   "metadata": {},
   "outputs": [
    {
     "data": {
      "text/plain": [
       "[((datetime.datetime(2020, 1, 28, 9, 0), 92), (16.8, 1)),\n",
       " ((datetime.datetime(2020, 1, 8, 20, 0), 189), (5.3, 1)),\n",
       " ((datetime.datetime(2020, 1, 10, 11, 0), 196), (13.46, 1)),\n",
       " ((datetime.datetime(2020, 1, 23, 15, 0), 260), (6.3, 1)),\n",
       " ((datetime.datetime(2020, 1, 17, 10, 0), 197), (10.8, 1))]"
      ]
     },
     "execution_count": 29,
     "metadata": {},
     "output_type": "execute_result"
    }
   ],
   "source": [
    "def prepare_for_grouping(row): \n",
    "    hour = row.lpep_pickup_datetime.replace(minute=0, second=0, microsecond=0)\n",
    "    zone = row.PULocationID\n",
    "    key = (hour, zone)\n",
    "    \n",
    "    amount = row.total_amount\n",
    "    count = 1\n",
    "    value = (amount, count)\n",
    "\n",
    "    return (key, value)\n",
    "rdd \\\n",
    "    .filter(filter_outliers) \\\n",
    "    .map(prepare_for_grouping) \\\n",
    "    .take(5)"
   ]
  },
  {
   "cell_type": "markdown",
   "id": "03727c8d",
   "metadata": {},
   "source": [
    ".reduceByKey()\n",
    " (5.5.1) Reduce by key\n",
    "\n",
    "Now, we will aggregate this RDD transformed RDD by the key.\n",
    "\n",
    "To do so, we will use pyspark.RDD.reduceByKey to merge the values for each key using an associative and commutative reduce function.\n",
    "\n",
    "Here, left_value and rigth_value are tuple of amount and number of records."
   ]
  },
  {
   "cell_type": "code",
   "execution_count": null,
   "id": "cb328a44",
   "metadata": {},
   "outputs": [
    {
     "name": "stderr",
     "output_type": "stream",
     "text": [
      "ERROR:root:KeyboardInterrupt while sending command.==>              (3 + 1) / 4]\n",
      "Traceback (most recent call last):\n",
      "  File \"/Users/jafa/opt/anaconda3/lib/python3.9/site-packages/py4j/java_gateway.py\", line 1038, in send_command\n",
      "    response = connection.send_command(command)\n",
      "  File \"/Users/jafa/opt/anaconda3/lib/python3.9/site-packages/py4j/clientserver.py\", line 511, in send_command\n",
      "    answer = smart_decode(self.stream.readline()[:-1])\n",
      "  File \"/Users/jafa/opt/anaconda3/lib/python3.9/socket.py\", line 704, in readinto\n",
      "    return self._sock.recv_into(b)\n",
      "KeyboardInterrupt\n"
     ]
    },
    {
     "name": "stdout",
     "output_type": "stream",
     "text": [
      "23/03/09 21:04:44 ERROR Executor: Exception in task 0.0 in stage 10.0 (TID 16): Connection reset\n"
     ]
    }
   ],
   "source": [
    "def calculate_revenue(left_value, right_value):\n",
    "    left_amount, left_count = left_value\n",
    "    right_amount, right_count = right_value\n",
    "    \n",
    "    output_amount = left_amount + right_amount\n",
    "    output_count = left_count + right_count\n",
    "    \n",
    "    return (output_amount, output_count)\n",
    "df_result = rdd \\\n",
    "    .filter(filter_outliers) \\\n",
    "    .map(prepare_for_grouping) \\\n",
    "    .reduceByKey(calculate_revenue) \\\n",
    "    .take(5)"
   ]
  },
  {
   "cell_type": "code",
   "execution_count": null,
   "id": "7cf1401e",
   "metadata": {},
   "outputs": [],
   "source": [
    "# The nested Row structure isn’t really nice to use, and we want to fall back to a data frame.\n",
    "\n",
    "# To do so, we apply another map function to transform the rows into the desired columns."
   ]
  },
  {
   "cell_type": "code",
   "execution_count": 10,
   "id": "2ea260f1",
   "metadata": {},
   "outputs": [],
   "source": [
    "from collections import namedtuple"
   ]
  },
  {
   "cell_type": "code",
   "execution_count": 11,
   "id": "7dae6064",
   "metadata": {},
   "outputs": [],
   "source": [
    "RevenueRow = namedtuple('RevenueRow', ['hour', 'zone', 'revenue', 'count'])"
   ]
  },
  {
   "cell_type": "code",
   "execution_count": 12,
   "id": "e0a98ee4",
   "metadata": {},
   "outputs": [],
   "source": [
    "def unwrap(row):\n",
    "    return RevenueRow(\n",
    "        hour=row[0][0], \n",
    "        zone=row[0][1],\n",
    "        revenue=row[1][0],\n",
    "        count=row[1][1]\n",
    "    )\n",
    "rdd \\\n",
    "    .filter(filter_outliers) \\\n",
    "    .map(prepare_for_grouping) \\\n",
    "    .reduceByKey(calculate_revenue) \\\n",
    "    .map(unwrap) \\\n",
    "    .take(5)"
   ]
  },
  {
   "cell_type": "markdown",
   "id": "58fc7438",
   "metadata": {},
   "source": [
    "### Returning to a dataframe\n",
    "To return to a dataframe properly, we want to fix the schema.\n",
    "\n"
   ]
  },
  {
   "cell_type": "code",
   "execution_count": 13,
   "id": "a09200b8",
   "metadata": {},
   "outputs": [],
   "source": [
    "from pyspark.sql import types"
   ]
  },
  {
   "cell_type": "code",
   "execution_count": 14,
   "id": "5c14d15e",
   "metadata": {},
   "outputs": [],
   "source": [
    "result_schema = types.StructType([\n",
    "    types.StructField('hour', types.TimestampType(), True),\n",
    "    types.StructField('zone', types.IntegerType(), True),\n",
    "    types.StructField('revenue', types.DoubleType(), True),\n",
    "    types.StructField('count', types.IntegerType(), True)\n",
    "])"
   ]
  },
  {
   "cell_type": "code",
   "execution_count": null,
   "id": "6c189c0c",
   "metadata": {},
   "outputs": [],
   "source": [
    "df_result = rdd \\\n",
    "    .filter(filter_outliers) \\\n",
    "    .map(prepare_for_grouping) \\\n",
    "    .reduceByKey(calculate_revenue) \\\n",
    "    .map(unwrap) \\\n",
    "    .toDF(result_schema)\n",
    "\n",
    "df_result.show(5)"
   ]
  },
  {
   "cell_type": "code",
   "execution_count": null,
   "id": "9e9e0553",
   "metadata": {},
   "outputs": [],
   "source": [
    "df_result.printSchema()"
   ]
  },
  {
   "cell_type": "code",
   "execution_count": 16,
   "id": "4675bd3f",
   "metadata": {},
   "outputs": [
    {
     "name": "stderr",
     "output_type": "stream",
     "text": [
      "                                                                                \r"
     ]
    }
   ],
   "source": [
    "df_result.write.parquet('tmp/green-revenue')"
   ]
  },
  {
   "cell_type": "markdown",
   "id": "df552033",
   "metadata": {},
   "source": [
    "## mapPartitions() returns a new RDD by applying a function to each partition of this RDD.\n",
    "\n"
   ]
  },
  {
   "cell_type": "code",
   "execution_count": 17,
   "id": "255b5503",
   "metadata": {},
   "outputs": [],
   "source": [
    "columns = ['VendorID', 'lpep_pickup_datetime', 'PULocationID', 'DOLocationID', 'trip_distance']\n",
    "\n",
    "duration_rdd = df_green \\\n",
    "    .select(columns) \\\n",
    "    .rdd\n",
    "duration_rdd.take(5)"
   ]
  },
  {
   "cell_type": "markdown",
   "id": "34b5c70c",
   "metadata": {},
   "source": [
    "## Below is a two simples codes that helps to understand how mapPartitions() works.\n",
    "\n",
    "The code below returns [1] for each partitions and flattens the list."
   ]
  },
  {
   "cell_type": "code",
   "execution_count": null,
   "id": "2c73a4a4",
   "metadata": {},
   "outputs": [],
   "source": [
    "def apply_model_in_batch(partition):\n",
    "    return [1]\n",
    "\n",
    "rdd.mapPartitions(apply_model_in_batch).collect()\n",
    "# [1, 1, 1, 1]"
   ]
  },
  {
   "cell_type": "code",
   "execution_count": null,
   "id": "2d986cb7",
   "metadata": {},
   "outputs": [],
   "source": [
    "def apply_model_in_batch(partition):\n",
    "    cnt = 0\n",
    "\n",
    "    for row in partition:\n",
    "        cnt = cnt + 1\n",
    "\n",
    "    return [cnt]\n",
    "\n",
    "rdd.mapPartitions(apply_model_in_batch).collect()\n",
    "# [1141148, 436983, 433476, 292910]"
   ]
  },
  {
   "cell_type": "code",
   "execution_count": null,
   "id": "b4a41c1c",
   "metadata": {},
   "outputs": [],
   "source": [
    "import pandas as pd\n",
    "\n",
    "def apply_model_in_batch(rows):\n",
    "    df = pd.DataFrame(rows, columns=columns)\n",
    "    cnt = len(df)\n",
    "    return [cnt]\n",
    "\n",
    "duration_rdd.mapPartitions(apply_model_in_batch).collect()\n",
    "# [1141148, 436983, 433476, 292910]"
   ]
  },
  {
   "cell_type": "markdown",
   "id": "13454721",
   "metadata": {},
   "source": [
    "## It put the entire partition in a dataframe, which isn’t always good. If you want to solve it, you can use .islice() to break a partition into 100,000 rows subpartitions and treat them them separately."
   ]
  },
  {
   "cell_type": "code",
   "execution_count": 19,
   "id": "921e4ef9",
   "metadata": {},
   "outputs": [],
   "source": [
    "# rows = duration_rdd.take(10)"
   ]
  },
  {
   "cell_type": "code",
   "execution_count": 20,
   "id": "f50db3eb",
   "metadata": {},
   "outputs": [],
   "source": [
    "# df = pd.DataFrame(rows, columns=columns)"
   ]
  },
  {
   "cell_type": "code",
   "execution_count": null,
   "id": "5b8ecc53",
   "metadata": {},
   "outputs": [],
   "source": [
    "# model = ...\n",
    "\n",
    "def model_predict(df):\n",
    "    # y_pred = model.predict(df)\n",
    "    y_pred = df.trip_distance * 5\n",
    "    return y_pred\n",
    "\n",
    "def apply_model_in_batch(rows):\n",
    "    df = pd.DataFrame(rows, columns=columns)\n",
    "    predictions = model_predict(df)\n",
    "    df['predicted_duration'] = predictions\n",
    "\n",
    "    for row in df.itertuples():\n",
    "        yield row\n",
    "\n",
    "df_predicts = duration_rdd \\\n",
    "    .mapPartitions(apply_model_in_batch) \\\n",
    "    .toDF() \\\n",
    "    .drop('Index')\n",
    "\n",
    "df_predicts.select('predicted_duration').show(10)"
   ]
  },
  {
   "cell_type": "markdown",
   "id": "67eafe10",
   "metadata": {},
   "source": [
    "Here, itertuples() iterates over DataFrame rows as namedtuples.\n",
    "\n"
   ]
  },
  {
   "cell_type": "code",
   "execution_count": null,
   "id": "41e07af9",
   "metadata": {},
   "outputs": [],
   "source": [
    "rows = duration_rdd.take(5)\n",
    "df = pd.DataFrame(rows, columns=columns)\n",
    "list(df.itertuples())"
   ]
  },
  {
   "cell_type": "markdown",
   "id": "3de643d8",
   "metadata": {},
   "source": [
    "The yield keyword in Python is similar to a return statement used for returning values or objects in Python. However, there is a slight difference. The yield statement returns a generator object to the one who calls the function which contains yield, instead of simply returning a value."
   ]
  },
  {
   "cell_type": "code",
   "execution_count": null,
   "id": "95d31a47",
   "metadata": {},
   "outputs": [],
   "source": [
    "def infinite_seq(flag: bool):\n",
    "    i = 0\n",
    "    while True:\n",
    "        yield i\n",
    "        i = i + 1\n",
    "\n",
    "        if flag and i > 10:\n",
    "            break"
   ]
  },
  {
   "cell_type": "code",
   "execution_count": null,
   "id": "325e739c",
   "metadata": {},
   "outputs": [],
   "source": [
    "seq = infinite_seq(False)"
   ]
  },
  {
   "cell_type": "code",
   "execution_count": null,
   "id": "6f998ed0",
   "metadata": {},
   "outputs": [],
   "source": [
    "seq\n",
    "# But, this produces a finite sequence.\n"
   ]
  },
  {
   "cell_type": "code",
   "execution_count": null,
   "id": "1be13acc",
   "metadata": {},
   "outputs": [],
   "source": [
    "seq = infinite_seq(True)"
   ]
  },
  {
   "cell_type": "code",
   "execution_count": null,
   "id": "c42dcd4b",
   "metadata": {},
   "outputs": [],
   "source": [
    "seq"
   ]
  },
  {
   "cell_type": "code",
   "execution_count": null,
   "id": "c93b5374",
   "metadata": {},
   "outputs": [],
   "source": [
    "list(seq)"
   ]
  },
  {
   "cell_type": "code",
   "execution_count": null,
   "id": "4bba44f2",
   "metadata": {},
   "outputs": [],
   "source": []
  },
  {
   "cell_type": "code",
   "execution_count": null,
   "id": "2d80d8c9",
   "metadata": {},
   "outputs": [],
   "source": []
  },
  {
   "cell_type": "code",
   "execution_count": null,
   "id": "7de7c841",
   "metadata": {},
   "outputs": [],
   "source": []
  }
 ],
 "metadata": {
  "kernelspec": {
   "display_name": "Python 3 (ipykernel)",
   "language": "python",
   "name": "python3"
  },
  "language_info": {
   "codemirror_mode": {
    "name": "ipython",
    "version": 3
   },
   "file_extension": ".py",
   "mimetype": "text/x-python",
   "name": "python",
   "nbconvert_exporter": "python",
   "pygments_lexer": "ipython3",
   "version": "3.9.13"
  }
 },
 "nbformat": 4,
 "nbformat_minor": 5
}
